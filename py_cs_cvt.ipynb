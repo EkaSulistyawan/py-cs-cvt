{
 "cells": [
  {
   "cell_type": "code",
   "execution_count": 1,
   "id": "a3752fff-4c2d-4814-b896-7ff635bb95d2",
   "metadata": {},
   "outputs": [],
   "source": [
    "import matplotlib.pyplot as plt\n",
    "import numpy as np\n",
    "from matplotlib.ticker import MultipleLocator\n",
    "\n",
    "from curvelops import FDCT2D\n",
    "from curvelops.plot import create_colorbar\n",
    "\n",
    "from PIL import Image, ImageOps"
   ]
  },
  {
   "cell_type": "markdown",
   "id": "743aff4b-467a-455d-a53e-7c3be4cb34f5",
   "metadata": {},
   "source": [
    "# Load the image and simulate random sampling"
   ]
  },
  {
   "cell_type": "code",
   "execution_count": 2,
   "id": "82dc7638-65dd-4bdc-9412-cc82ed75b34d",
   "metadata": {},
   "outputs": [],
   "source": [
    "def showimage(I):\n",
    "    A = Image.fromarray(np.uint8(I)*255)\n",
    "    return A "
   ]
  },
  {
   "cell_type": "code",
   "execution_count": 3,
   "id": "615ce215-4d98-40d4-b49b-e3756dd92bc6",
   "metadata": {},
   "outputs": [],
   "source": [
    "# load the image\n",
    "im = Image.open('lena_std.tif')\n",
    "im = ImageOps.grayscale(im)\n",
    "I = np.asarray(im)"
   ]
  },
  {
   "cell_type": "code",
   "execution_count": 4,
   "id": "5404a5e0-01e1-4789-a0da-2703596b08c3",
   "metadata": {
    "scrolled": true
   },
   "outputs": [],
   "source": [
    "# simulate the sampling and get the sampling \n",
    "from random import sample\n",
    "import math\n",
    "\n",
    "# generate the sampling matrix\n",
    "pctg = 0.01\n",
    "arrsize = im.size[1]*im.size[0]\n",
    "arr = np.arange(0,arrsize-1)\n",
    "kx,ky = (np.random.choice(arr,round(pctg*arrsize)), np.random.choice(arr,round(pctg*arrsize)))\n",
    "\n",
    "# \n",
    "kx = kx % I.shape[0]\n",
    "ky = ky % I.shape[1]\n",
    "k = np.array([kx,ky])\n",
    "k = np.reshape(k,(-1,2))\n",
    "\n",
    "Y = np.zeros((I.shape))\n",
    "M = np.zeros((I.shape))\n",
    "sampled = np.zeros((k.shape[0]))\n",
    "for i in range(0,k.shape[0]):\n",
    "    sampled[i] = I[k[i,0],k[i,1]]\n",
    "    Y[k[i,0],k[i,1]] = I[k[i,0],k[i,1]]\n",
    "    M[k[i,0],k[i,1]] = 1"
   ]
  },
  {
   "cell_type": "markdown",
   "id": "924ec2be-b360-4f14-9384-56eab7b10e76",
   "metadata": {},
   "source": [
    "# Try Scattered Interpolation"
   ]
  },
  {
   "cell_type": "code",
   "execution_count": 5,
   "id": "940d8593-3282-41da-84ff-4be6770d1ca1",
   "metadata": {},
   "outputs": [],
   "source": [
    "def scattered_interpolation(k,sampled):\n",
    "    from scipy.interpolate import griddata\n",
    "    # create grid\n",
    "    grid_x,grid_y = np.meshgrid(np.arange(0,im.size[0]-1),np.arange(0,im.size[1]-1),indexing='ij')\n",
    "    \n",
    "    itpd = griddata(k,sampled.astype('double'),(grid_x,grid_y),method='nearest')\n",
    "    return itpd\n",
    "\n",
    "X = scattered_interpolation(k,sampled)"
   ]
  },
  {
   "cell_type": "markdown",
   "id": "84f9219a-1431-49c0-9b0a-1185fe721a00",
   "metadata": {},
   "source": []
  },
  {
   "cell_type": "markdown",
   "id": "84dd50f4-8854-42de-806f-08ffe9db19e4",
   "metadata": {},
   "source": [
    "# CS-CVT from Matlab\n",
    "\n",
    "We do have\n",
    "- $Y$ for observable\n",
    "- $M$ for mask\n",
    "- $X$ for initial point"
   ]
  },
  {
   "cell_type": "markdown",
   "id": "5d6ff30b-e497-4f6b-93e5-21c8916bddf5",
   "metadata": {},
   "source": [
    "### Try to compute the Curvelet Coeff"
   ]
  },
  {
   "cell_type": "code",
   "execution_count": 8,
   "id": "23225a9c-625a-4a7d-a273-4a1fa8f939a3",
   "metadata": {},
   "outputs": [],
   "source": [
    "C = FDCT2D(\n",
    "    X.shape,\n",
    "    allcurvelets=True)\n",
    "\n",
    "C_fdct_struct = C.struct(C @ X)"
   ]
  }
 ],
 "metadata": {
  "kernelspec": {
   "display_name": "Python 3 (ipykernel)",
   "language": "python",
   "name": "python3"
  },
  "language_info": {
   "codemirror_mode": {
    "name": "ipython",
    "version": 3
   },
   "file_extension": ".py",
   "mimetype": "text/x-python",
   "name": "python",
   "nbconvert_exporter": "python",
   "pygments_lexer": "ipython3",
   "version": "3.8.10"
  }
 },
 "nbformat": 4,
 "nbformat_minor": 5
}
